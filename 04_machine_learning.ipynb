{
 "cells": [
  {
   "cell_type": "code",
   "execution_count": 2,
   "metadata": {},
   "outputs": [],
   "source": [
    "# 머신러닝은 소프트웨어다\n",
    "# Explicit Programming 명시적 프로그래밍(일반적으로 짤수 있는 프로그래밍을 지칭)\n",
    "# 머신러닝(스팸메일 판단, 자율주행차,명시적프로그래밍으로 해결할 수 없는일)\n",
    "# 1959 Arthur Samuel \n",
    "# 프로그램 자체가 데이터를 기반으로 학습을 통해 배우는 능력을 가지는 프로그래밍\n",
    "\n",
    "\n",
    "# 지도학습과 비지도학습\n",
    "\n",
    "# 지도학습\n",
    "# Supervised Learning : 데이터에 이름을 하나붙여줌(lable)을 학습\n",
    "# Predictive Model > Duck\n",
    "# Linear Regression(선형)\n",
    "# 라벨의 범위가 상대적으로 넓다(lable의 range)\n",
    "# 1 > 5, 2 > 15, 5 > 68, 8 > 80, 10 > 95 \n",
    "\n",
    "# Logistic Regression(Binary Class)\n",
    "# 라벨이 2개 중 한개\n",
    "# 1 > F, 2 > F, 5 > F, 8 > T, 10 > T\n",
    "\n",
    "# Multinomial Classification(Multi-label Classification)\n",
    "# 라벨이 N개 중 한개\n",
    "# 1 > F, 2 > F, 5 > D, 8 > B, 10 >  A\n",
    "\n",
    "\n",
    "# 비지도학습\n",
    "# Unsupervised Learning : 데이터에 이름(lable)이 없고 데이터만 들어옴, 새로운 그룹같은경우 데이터를 이용해 스스로 학습\n",
    "\n",
    "\n",
    "# 데이터를 가정함 Linear인가? Logistic 인가? Multinomial 인가?\n",
    "# 가설\n",
    "# Linear Hypothesis : 선을 수정하며 데이터에 가장 적합한 선을 찾는과정\n",
    "# H(x) = W(weight)x + b < Hypothesis(가설) W와 b를 찾겠다 > 가설의 완성\n",
    "# Cost(Loss) Function 사용\n",
    "# 가설과 실제데이터의차이가 적으면 적을수록 좋은 가설이다.\n",
    "# Cost(Loss) Function : 가설과 training data간의 값의 차를 계산하는 함수\n",
    "# cost값을 최소화하는 경로와\n",
    "\n"
   ]
  },
  {
   "cell_type": "code",
   "execution_count": null,
   "metadata": {},
   "outputs": [],
   "source": []
  },
  {
   "cell_type": "code",
   "execution_count": null,
   "metadata": {},
   "outputs": [],
   "source": []
  },
  {
   "cell_type": "code",
   "execution_count": null,
   "metadata": {},
   "outputs": [],
   "source": []
  }
 ],
 "metadata": {
  "kernelspec": {
   "display_name": "Python [conda env:jctensorflow]",
   "language": "python",
   "name": "conda-env-jctensorflow-py"
  },
  "language_info": {
   "codemirror_mode": {
    "name": "ipython",
    "version": 3
   },
   "file_extension": ".py",
   "mimetype": "text/x-python",
   "name": "python",
   "nbconvert_exporter": "python",
   "pygments_lexer": "ipython3",
   "version": "3.5.6"
  }
 },
 "nbformat": 4,
 "nbformat_minor": 2
}
