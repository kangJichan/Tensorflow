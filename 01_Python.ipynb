{
 "cells": [
  {
   "cell_type": "code",
   "execution_count": 19,
   "metadata": {},
   "outputs": [],
   "source": [
    "# 개발환경 설정\n",
    "# 아나콘다 설치, 주피터 설치\n",
    "# What is Data, Data Amalysis, Data Mining?\n",
    "# What is Big Data(3V, Volume, Variety, Velocity)?\n",
    "# Big Data 분석방법 : 1) EDA(탐색적 데이터 분석)\n",
    "#                     2) Machine Learning\n",
    "#                     3) Deep Learning\n",
    "# Why Python?\n",
    "# 데이터 분석에서 가장 좋은 언어는 파이썬이다!\n",
    "# 쉽고, 데이터 처리에 특화되어 있다.\n",
    "# Number(숫자), String(문자열), List(리스트), Tuple(튜플), Dictionary(폴더), Set(집합), Bool(논리)\n"
   ]
  },
  {
   "cell_type": "code",
   "execution_count": 45,
   "metadata": {},
   "outputs": [
    {
     "name": "stdout",
     "output_type": "stream",
     "text": [
      "4.140000000000001\n",
      "31400000000.0\n",
      "(1+2j)\n",
      "28\n",
      "171\n"
     ]
    },
    {
     "data": {
      "text/plain": [
       "27"
      ]
     },
     "execution_count": 45,
     "metadata": {},
     "output_type": "execute_result"
    }
   ],
   "source": [
    "# Python Data Type\n",
    "# Number\n",
    "a = 1 # 정수\n",
    "b = 3.14 # 실수\n",
    "b = a + b \n",
    "c = 3.14E10 # 지수\n",
    "d = 1 + 2j # 복소수\n",
    "e = 0o34 # 8진수\n",
    "f = 0xAB # 16진수\n",
    "print(b)\n",
    "print(c)\n",
    "print(d)\n",
    "print(e)\n",
    "print(f)\n",
    "\n",
    "div = 3 / 4\n",
    "result = 3**3 # 제곱\n",
    "result"
   ]
  },
  {
   "cell_type": "code",
   "execution_count": 47,
   "metadata": {},
   "outputs": [
    {
     "data": {
      "text/plain": [
       "1"
      ]
     },
     "execution_count": 47,
     "metadata": {},
     "output_type": "execute_result"
    }
   ],
   "source": [
    "result = 10 % 3 # 나머지\n",
    "result"
   ]
  },
  {
   "cell_type": "code",
   "execution_count": 49,
   "metadata": {},
   "outputs": [
    {
     "data": {
      "text/plain": [
       "3"
      ]
     },
     "execution_count": 49,
     "metadata": {},
     "output_type": "execute_result"
    }
   ],
   "source": [
    "result = 10 // 3 # 몫\n",
    "result"
   ]
  },
  {
   "cell_type": "code",
   "execution_count": 68,
   "metadata": {},
   "outputs": [
    {
     "name": "stdout",
     "output_type": "stream",
     "text": [
      "hello\n",
      "world\n"
     ]
    }
   ],
   "source": [
    "# Python의 문자열\n",
    "word = \"hello\" + \" \"+ \"jichan\"\n",
    "c = \"hello\\nworld\"\n",
    "print(c)\n"
   ]
  },
  {
   "cell_type": "code",
   "execution_count": 84,
   "metadata": {},
   "outputs": [
    {
     "name": "stdout",
     "output_type": "stream",
     "text": [
      "이것은\n",
      "소리없는\n",
      "아우성\n"
     ]
    }
   ],
   "source": [
    "c = \"\"\"이것은\n",
    "소리없는\n",
    "아우성\"\"\"\n",
    "d = '''이것은\n",
    "소리없는\n",
    "아우성'''\n",
    "print(d)"
   ]
  },
  {
   "cell_type": "code",
   "execution_count": 151,
   "metadata": {},
   "outputs": [
    {
     "name": "stdout",
     "output_type": "stream",
     "text": [
      "이것은\n",
      "소리없는\n",
      "아우성이것은\n",
      "소리없는\n",
      "아우성\n",
      "이것은\n",
      "소리없는\n",
      "아우성이것은\n",
      "소리없는\n",
      "아우성이것은\n",
      "소리없는\n",
      "아우성\n",
      "Hello World\n",
      "alk \n",
      "e\n",
      "T\n"
     ]
    },
    {
     "data": {
      "text/plain": [
       "'Talk is cheap, Show me the Code'"
      ]
     },
     "execution_count": 151,
     "metadata": {},
     "output_type": "execute_result"
    }
   ],
   "source": [
    "#문자열 연산\n",
    "print(c + d)\n",
    "print(c * 3)\n",
    "first = \"Hello\"\n",
    "last = \"World\"\n",
    "print(first+\" \" + last)\n",
    "\n",
    "a = \"Talk is cheap, Show me the Code\"\n",
    "print(a[1:5]) # slicing\n",
    "print(a[-1]) # indexing\n",
    "print(a[0]) # indexing\n",
    "a[:9] # 처음부터\n",
    "a[10:] # 끝까지\n",
    "a[:] # 전체 문자열"
   ]
  },
  {
   "cell_type": "code",
   "execution_count": 180,
   "metadata": {},
   "outputs": [
    {
     "data": {
      "text/plain": [
       "'    3.1416'"
      ]
     },
     "execution_count": 180,
     "metadata": {},
     "output_type": "execute_result"
    }
   ],
   "source": [
    "# 문자열 formatting\n",
    "\n",
    "a = \"나는 사과를 %d개 가지고 있어요!!\" %10\n",
    "b = \"나는 사과를 %s개 가지고 있어요!!\" %\"두\"\n",
    "a\n",
    "b\n",
    "c = \"나는 사과 %d개 바나나 %d개\" %(3, 5)\n",
    "c\n",
    "d = \"에러율은 %d%%입니다\" % 90\n",
    "d\n",
    "f = \"나는 사과를 %10d 개\" %10\n",
    "f\n",
    "e = \"%10.4f\" % 3.1415926535 # 소수점 5자리에서 반올림\n",
    "e"
   ]
  },
  {
   "cell_type": "code",
   "execution_count": 201,
   "metadata": {},
   "outputs": [
    {
     "data": {
      "text/plain": [
       "'cocaCola'"
      ]
     },
     "execution_count": 201,
     "metadata": {},
     "output_type": "execute_result"
    }
   ],
   "source": [
    "# 문자열 함수\n",
    "a = \"     cocaCola \"\n",
    "b = len(a) # 문자열 길이\n",
    "b\n",
    "a.count(\"co\") # 해당 문자열 개수 출력\n",
    "a.find(\"cola\") # 첫번째 나온 값의 인덱스값, 없으면 -1\n",
    "a.index(\"o\") # 첫번째 나온 값의 인덱스값, 없으면 에러\n",
    "a.upper() # 대문자로\n",
    "a.lower() # 소문자로\n",
    "a.strip() # 양쪽 공백제거 "
   ]
  },
  {
   "cell_type": "code",
   "execution_count": 213,
   "metadata": {},
   "outputs": [
    {
     "data": {
      "text/plain": [
       "'3.1416'"
      ]
     },
     "execution_count": 213,
     "metadata": {},
     "output_type": "execute_result"
    }
   ],
   "source": [
    "a = \"Talk is cheep. show me Code\"\n",
    "a.replace(\"Code\", \"money\") # 새로운 문자열이 만들어 잠\n",
    "a.split() # 공백으로 숫자로 믄자열 나뭇잎에서\n",
    "\n",
    "a = \"a:b:c:d:e\"\n",
    "a.split(\":\")\n",
    "\n",
    "a = \"사과를 {0}개, 바나나를 {1}\".format(3, 10)\n",
    "a\n",
    "a = \"{0:0.4f}\".format(3.141592)\n",
    "a"
   ]
  },
  {
   "cell_type": "code",
   "execution_count": 231,
   "metadata": {},
   "outputs": [
    {
     "data": {
      "text/plain": [
       "[1, 2]"
      ]
     },
     "execution_count": 231,
     "metadata": {},
     "output_type": "execute_result"
    }
   ],
   "source": [
    "#Python List\n",
    "a = list()\n",
    "a = [1, 2, 3, 4, 5]\n",
    "a = [1, 2.14, \"hello\", True, 5]\n",
    "a = [1,2, [\"show\", \"me\", \"the\", \"money\"], 3.14]\n",
    "a[2][0]\n",
    "a[-1]\n",
    "a[0:2]"
   ]
  },
  {
   "cell_type": "code",
   "execution_count": 249,
   "metadata": {},
   "outputs": [
    {
     "data": {
      "text/plain": [
       "[4, 5]"
      ]
     },
     "execution_count": 249,
     "metadata": {},
     "output_type": "execute_result"
    }
   ],
   "source": [
    "#list의 연산\n",
    "a = [1, 2, 3]\n",
    "b = [4, 5 ,6]\n",
    "a + b\n",
    "a * 3\n",
    "\n",
    "\n",
    "str(a[0]) + \"Hello\"\n",
    "\n",
    "a = [1, 2, 3, 4, 5]\n",
    "a[0] = 6\n",
    "a[0] = [7,8,9]\n",
    "a  # [[7, 8, 9], 2, 3, 4, 5]\n",
    "a[0:1] = [7,8,9] # [7, 8, 9, 2, 3, 4, 5]\n",
    "a = [1, 2, 3, 4, 5]\n",
    "a[1:3] =[]\n",
    "a # [1, 4, 5]\n",
    "del a[0] # 특정 인덱스를 날려버림\n",
    "a # [4, 5]"
   ]
  },
  {
   "cell_type": "code",
   "execution_count": 276,
   "metadata": {},
   "outputs": [
    {
     "data": {
      "text/plain": [
       "False"
      ]
     },
     "execution_count": 276,
     "metadata": {},
     "output_type": "execute_result"
    }
   ],
   "source": [
    "# list의 함수\n",
    "a = [1, 2, 3 ,4]\n",
    "a.append(1) # 맨끝에 특정요소 추가\n",
    "a # [1, 2, 3, 4, 1]\n",
    "a.append([1, 2, 3]) # 맨끝에 특정요소 추가\n",
    "a # [1, 2, 3, 4, 1, [1, 2, 3]]\n",
    "\n",
    "a = [7,4,9, 2, 8]\n",
    "a.sort()\n",
    "a #[2, 4, 7, 8. 9]\n",
    "result = a\n",
    "result\n",
    "\n",
    "a.reverse() # 내림차순이 아닌 역으로 뒤집음\n",
    "a # [9, 8, 7, 4, 2]\n",
    "\n",
    "a = [1, 2, 3]\n",
    "a.insert(0, -1)\n",
    "a # [-1, 1, 2, 3] 특정인덱스에 특정값을 삽입\n",
    "a = [1, 2, 3, 1, 2, 3, 1, 2]\n",
    "a.remove(3) # 처음나온 3을 지워라\n",
    "a\n",
    "\n",
    "a.pop() # 2\n",
    "a # [1, 2, 1, 2, 3, 1]\n",
    "\n",
    "a = [1, 2, 3]\n",
    "a.pop(1) # 2\n",
    "a # [1, 3]\n",
    "\n",
    "a = [1, 2 , 3]\n",
    "a.extend([5, 6, 7]) # [1, 2, 3, 5, 6, 7]\n",
    "a\n",
    "\n"
   ]
  },
  {
   "cell_type": "code",
   "execution_count": 283,
   "metadata": {},
   "outputs": [],
   "source": [
    "# list의 복사\n",
    "a = [1, 2, 3] # 레퍼런스 객체\n",
    "b = a # 같은 레퍼런스를 참고하라\n",
    "a is b # a와 b가 같니? 같으면 True, 다르면 False\n",
    "a is not b # 같지않니?\n",
    "\n",
    "a = [1, 2, 3]\n",
    "b = a[:] # 새로운객체\n",
    "a is b # 두개의 객체는 서로 다른 레퍼런스 주소를 가지고있다\n",
    "\n",
    "a == b # 내용이 같냐??????\n",
    "\n",
    "from copy import copy # 다른 외부 라이브러리를 쓰겠다\n",
    "import copy\n",
    "import copy as cp # 별칭주기\n",
    "a = [1, 2 ,3]\n",
    "b = cp.copy(a)"
   ]
  },
  {
   "cell_type": "code",
   "execution_count": 310,
   "metadata": {},
   "outputs": [
    {
     "data": {
      "text/plain": [
       "(1, 2, 3, 4, 5, 6)"
      ]
     },
     "execution_count": 310,
     "metadata": {},
     "output_type": "execute_result"
    }
   ],
   "source": [
    "# Tuple, 깂의 수정, 삭제가 불가능!!!\n",
    "a = (1, 2, 3) # 인덱싱, 슬라이싱, 연산은 가능!\n",
    "a # 리스트랑 비슷함 수정이 안되는것 빼곤 (1, 2, 3)\n",
    "a = (100) # 원소 하나는 튜플이 아닌 하나의 객체로봄\n",
    "a # 100\n",
    "type(a) # int\n",
    "\n",
    "a = (100, ) # 튜플로 인식하게 하기위해 콤마를 찍어줌\n",
    "type(a) # tuple\n",
    "a = (1, 2, 3, 4, 5, 6)\n",
    "a = 1, 2, 3, 4, 5, 6 # 소괄호를 생략해도 튜플로 인식함\n",
    "a\n",
    "type(a) # tuple\n",
    "\n",
    "a, b = [1, 2]\n",
    "type(a) # int\n",
    "a # 1\n",
    "\n",
    "a, b, c = 1, 2, [1,3] # 튜플을 이용해서 객체에 어사인함\n",
    "c\n",
    "a = (1, 2, 3, [1, 2], (3,4))\n",
    "a[3][0] = 3 # 튜플은 변경이 안되지만 튜플안에 있는 리스트는 변경이 가능함\n",
    "a\n",
    "a[0:2] # 슬라이싱 할때는 대괄호를 사용함\n",
    "\n",
    "\n",
    "a = (1, 2, 3)\n",
    "b = (4, 5, 6)\n",
    "a + b # 새로운 튜플이 생겨나는것 a와 b 가 변하는게 아니어서 연산은 가능함\n",
    "# 변경이 안되기때문에 안전하게 사용가능함"
   ]
  },
  {
   "cell_type": "code",
   "execution_count": 330,
   "metadata": {},
   "outputs": [
    {
     "data": {
      "text/plain": [
       "{'address': '경남', 'age': 30, 'name': '홍길동'}"
      ]
     },
     "execution_count": 330,
     "metadata": {},
     "output_type": "execute_result"
    }
   ],
   "source": [
    "# Dictionary (map, hash, 연관배열로 구성되어 있고 일반적으로 해쉬, 맵의 개념으로 이해)\n",
    "a = {} # dict\n",
    "a = {\"name\":\"홍길동\", \"age\":30, \"address\":\"서울\"} # json  형식으로 표현, 순서에 상관없이 표현할 수 있다.\n",
    "a\n",
    "type(a) # dict\n",
    "a[\"name\"] # '홍길동'\n",
    "a[\"age\"] # 30 key로 value를 얻어내고 싶을때\n",
    "a[\"gender\"] = \"남\" # 새로운 키를 추가 하고 싶을때\n",
    "a # {'address': '서울', 'age': 30, 'gender': '남', 'name': '홍길동'}\n",
    "a[\"age\"] = 26 # 기존키값의 밸류 변경할때\n",
    "a # {'address': '서울', 'age': 26, 'gender': '남', 'name': '홍길동'}\n",
    "\n",
    "del a[\"address\"] # 키값을 이용해서 삭제가능\n",
    "a # {'age': 26, 'gender': '남', 'name': '홍길동'}\n",
    "\n",
    "a = {\"name\":\"홍길동\", \"age\":30, \"address\":\"서울\", \"address\":\"경남\"} # 중복되는 키값은 나올수 없다\n",
    "a # {'address': '경남', 'age': 30, 'name': '홍길동'}"
   ]
  },
  {
   "cell_type": "code",
   "execution_count": 361,
   "metadata": {},
   "outputs": [
    {
     "name": "stdout",
     "output_type": "stream",
     "text": [
      "key:age, value:30\n",
      "key:address, value:서울\n",
      "key:name, value:홍길동\n"
     ]
    },
    {
     "data": {
      "text/plain": [
       "{}"
      ]
     },
     "execution_count": 361,
     "metadata": {},
     "output_type": "execute_result"
    }
   ],
   "source": [
    "# Dictionary 함수\n",
    "a = {\"name\":\"홍길동\", \"age\":30, \"address\":\"서울\"}\n",
    "a.keys() # 데이터타입은 리스트가 아닌 dict_keys(['age', 'address', 'name']) list는 아니다 dict_keys\n",
    "a.values() # dict_values([30, '서울', '홍길동']) list는 아니다 dict_values, list처럼 생겼을뿐...\n",
    "a.items() # 모든쌍들을 튜플로 만듬 dict_items([('age', 30), ('address', '서울'), ('name', '홍길동')]), 리스트는 아니지만 각각은 튜플로 들어감\n",
    "\n",
    "# 반복함수\n",
    "for key in a.keys(): # for key<에 담아서> in<안에 있을동안> <어디에>\n",
    "    print(\"key:{0}, value:{1}\".format(key,a[key])) # 들여 쓰기로 반복문 구분함\n",
    "\n",
    "a[\"address\"] # 방법 1\n",
    "a.get(\"hobby\") # 방법 2\n",
    "a.get(\"hobby\", \"game\") # 방법 2 hobby값이 없으면 game 으로 초기값 설정할 수 있다.\n",
    "\n",
    "\"name\" in a # key가 있는지 확인 T or F\n",
    "\"name\" not in a #key가 없는지 확인\n",
    "a.clear() #딕셔너리 안에있는 값 싹다 날림\n",
    "a"
   ]
  },
  {
   "cell_type": "code",
   "execution_count": 362,
   "metadata": {},
   "outputs": [],
   "source": [
    "# Bool\n",
    "# True, False 두개의 예약어가 존재\n",
    "# False로 간주되는것\n",
    "# \"\"(빈문자열), [](빈리스트), ()(빈튜플), {}(빈딕트), 숫자 0, None"
   ]
  },
  {
   "cell_type": "code",
   "execution_count": 382,
   "metadata": {},
   "outputs": [
    {
     "data": {
      "text/plain": [
       "{1, 2, 4, 5, 10, 11, 12, 13}"
      ]
     },
     "execution_count": 382,
     "metadata": {},
     "output_type": "execute_result"
    }
   ],
   "source": [
    "# 집합 (Set)\n",
    "# 자료구조이고 순서가 없고, 중복이 없다.\n",
    "a = {1, 2, 3} # 키와 쌍이없는 딕셔너리\n",
    "type(a) # set\n",
    "a # {1, 2, 3}\n",
    "a= {1, 2, 1, 2, 3}\n",
    "a # {1, 2, 3}\n",
    "a = set([1, 2, 3, 4, 5, 5, 4]) # 리스트를 셋으로 형변환, 중복배제\n",
    "a # {1, 2, 3, 4, 5}\n",
    "a = {5, 9, 1, 2, 3, 7, 6, 4} \n",
    "a # {1, 2, 3, 4, 5, 6, 7, 9}\n",
    "a = set(\"Hello\")\n",
    "a # {'H', 'e', 'l', 'o'}\n",
    "\n",
    "s1 = set([1,2,3,4,5])\n",
    "s2 = set([1,2,3,4,5,6,7])\n",
    "s1 & s2 # set에대한 교집합\n",
    "s1 ^ s2 # set에대한 합집합에서 교집합 뺀값\n",
    "s1 | s2 # set에대한 합집합\n",
    "s2 - s1 # set에대한 차집합\n",
    "\n",
    "s1.add(10) # set에 요소 추가\n",
    "s1.update([11, 12, 13]) # set에 여러개 추가\n",
    "s1.remove(3)\n",
    "s1"
   ]
  },
  {
   "cell_type": "code",
   "execution_count": 392,
   "metadata": {},
   "outputs": [
    {
     "name": "stdout",
     "output_type": "stream",
     "text": [
      "안멋지다\n"
     ]
    }
   ],
   "source": [
    "# if 문의 형태\n",
    "area = [\"서울\", \"수원\", \"인천\"]\n",
    "if \"제주\" in area:\n",
    "    print(\"멋지다\")\n",
    "elif \"서울\" in area:\n",
    "    print(\"안멋지다\")\n",
    "else:    \n",
    "    pass # 아무것도 하지말아라"
   ]
  },
  {
   "cell_type": "code",
   "execution_count": 403,
   "metadata": {},
   "outputs": [
    {
     "name": "stdout",
     "output_type": "stream",
     "text": [
      "340\n",
      "340\n",
      "340\n",
      "340\n",
      "340\n"
     ]
    }
   ],
   "source": [
    "# for문의 형태\n",
    "score = [100, 70, 80, 40, 50]\n",
    "sum = 0\n",
    "avg = 0\n",
    "for a in score:\n",
    "    sum += a\n",
    "avg = sum / 5\n",
    "avg\n",
    "\n",
    "sum = 0\n",
    "for a in range(5):\n",
    "    sum += score[a]\n",
    "\n",
    "for a in range(len(score)):\n",
    "    print(sum)"
   ]
  },
  {
   "cell_type": "code",
   "execution_count": 412,
   "metadata": {},
   "outputs": [
    {
     "data": {
      "text/plain": [
       "1075"
      ]
     },
     "execution_count": 412,
     "metadata": {},
     "output_type": "execute_result"
    }
   ],
   "source": [
    "number = \"7652310\"\n",
    "size = len(number) // 2\n",
    "a = number[0:size]\n",
    "b = number[size+1:]\n",
    "result = int(a) + int(b)\n",
    "result"
   ]
  },
  {
   "cell_type": "code",
   "execution_count": 476,
   "metadata": {},
   "outputs": [
    {
     "name": "stdout",
     "output_type": "stream",
     "text": [
      "366\n"
     ]
    }
   ],
   "source": [
    "number = \"7653102\"\n",
    "size = len(number) // 2\n",
    "a = number[0:size]\n",
    "b = number[size+1:]\n",
    "result = int(a) + int(b)\n",
    "result\n",
    "\n",
    "a = int(a[::-1])\n",
    "b = int(b[::-1])\n",
    "\n",
    "if a>b:\n",
    "    print(a-b)\n",
    "else:\n",
    "    print(b-a)\n"
   ]
  },
  {
   "cell_type": "code",
   "execution_count": 482,
   "metadata": {},
   "outputs": [
    {
     "data": {
      "text/plain": [
       "[12, 14, 16]"
      ]
     },
     "execution_count": 482,
     "metadata": {},
     "output_type": "execute_result"
    }
   ],
   "source": [
    "list = [1,2,3,4,5,6,7,8]\n",
    "\n",
    "score1 = [tmp * 2 for tmp in list] # 리스트 만들때 반복문 가능\n",
    "score1 # [2, 4, 6, 8, 10, 12, 14, 16]\n",
    "\n",
    "score2 = [tmp * 2 for tmp in list if tmp>5] # 반복문, 조건문 조합 가능\n",
    "score2"
   ]
  },
  {
   "cell_type": "code",
   "execution_count": 487,
   "metadata": {},
   "outputs": [
    {
     "data": {
      "text/plain": [
       "60"
      ]
     },
     "execution_count": 487,
     "metadata": {},
     "output_type": "execute_result"
    }
   ],
   "source": [
    "#힘수정의\n",
    "def my_sum(a,b,c):\n",
    "    return a+b+c\n",
    "\n",
    "result = my_sum(10,20,30)\n",
    "result"
   ]
  },
  {
   "cell_type": "code",
   "execution_count": 493,
   "metadata": {},
   "outputs": [
    {
     "data": {
      "text/plain": [
       "150"
      ]
     },
     "execution_count": 493,
     "metadata": {},
     "output_type": "execute_result"
    }
   ],
   "source": [
    "def my_sum(*a): # 인자가 몇개들어올진 모르지만 리스트로 받는다\n",
    "    sum = 0\n",
    "    for i in range(len(a)):\n",
    "        sum += a[i]\n",
    "    return sum\n",
    "\n",
    "result = my_sum(10,20,30,40,50) # 튜플형태로 전달이됨\n",
    "result"
   ]
  },
  {
   "cell_type": "code",
   "execution_count": 499,
   "metadata": {},
   "outputs": [
    {
     "data": {
      "text/plain": [
       "200"
      ]
     },
     "execution_count": 499,
     "metadata": {},
     "output_type": "execute_result"
    }
   ],
   "source": [
    "def multi_return(a, b):\n",
    "    result1 = a + b\n",
    "    result2 = a * b\n",
    "    return result1, result2 # 튜플로 리턴 복수개 (리턴값이 두개인게 아니다)\n",
    "multi_return(1, 2)\n",
    "\n",
    "sum, mul = multi_return(10, 20) # 복수개 담기\n",
    "mul"
   ]
  },
  {
   "cell_type": "code",
   "execution_count": 516,
   "metadata": {},
   "outputs": [
    {
     "name": "stdout",
     "output_type": "stream",
     "text": [
      "3.141592\n",
      "50\n"
     ]
    }
   ],
   "source": [
    "# Module : 함수, 혹은 변수, class들을 모아놓은 파일\n",
    "# 모듈은 특정폴더 안에 있어야 찾을수 있다.\n",
    "# 작업공간에서는 모듈을 불러올 수있다 working directory 에서는 module을 불러 올 수 있다.\n",
    "# 특정폴더를 라이브러리로 작업하고 싶다\n",
    "import sys\n",
    "sys.path.append(\"C:/python_Lib\") # 라이브러리 폴더안에 경로 넣는다\n",
    "# 환경변수 PYTHONPATH를 생성한 후 모듈을 저장한 폴더를 설정 해도 import 할수 있다.\n",
    "#import module1 모듈에서 다갖고올거야\n",
    "#import module1 as m1 모듈에서 갖고오는데 별칭을 정할거야\n",
    "#from module1 import PI\n",
    "#from module1 import sum # sum을 이름만 가지고 쓰겠어\n",
    "from module1 import * # 모든것을 이름만 가지고 쓰겠어\n",
    "#print(module1.sum(30, 20))\n",
    "#print(module1.PI)\n",
    "print(PI)\n",
    "print(sum(30,20))\n",
    "#print(m1.sum(30, 20))\n",
    "#print(m1.PI)\n"
   ]
  },
  {
   "cell_type": "code",
   "execution_count": 520,
   "metadata": {},
   "outputs": [
    {
     "name": "stdout",
     "output_type": "stream",
     "text": [
      "3.141592\n",
      "50\n",
      "3.141592\n"
     ]
    }
   ],
   "source": [
    "# 이렇게 모듈을 만들어서 사용하는건 좋은데\n",
    "# 종류가 너무많으면 지저분하니 분류해서 저장하는게 좋을듯 하다.\n",
    "# 관련있는 모듈을 폴더형태로 계층구조로 관리하는게 좋다.\n",
    "# 패키지형태로 되어있는 모듈은 당연히 풀패키지명을 이용해서 불러낸다.\n",
    "import myFolder.myModule.module1 as m1 # 이름 줄이기\n",
    "print(m1.PI)\n",
    "from myFolder.myModule import module1 # 이름으로 쓰기\n",
    "from myFolder.myModule.module1 import PI # 이름으로 쓰기\n",
    "from myFolder.myModule import * # 모든것 이름으로 그냥쓰기\n",
    "print(module1.sum(20, 30))\n",
    "print(PI)"
   ]
  },
  {
   "cell_type": "code",
   "execution_count": 1,
   "metadata": {},
   "outputs": [],
   "source": [
    "# 대표적 절차적언어 C언어\n",
    "# 큰단위에서 작은단위로\n",
    "# ex) 은행 > 외환업무, 예금업(입금업무, 출금업무, 마이너스 통장개설 등), 대출업무, 보험업무\n",
    "# 장점 : 단위프로그래밍하기 쉽게되어있다. 문제를 분석하기 쉽다. 구현이 용이하다\n",
    "# 단점 : 유지보수가 어렵다. 코드관리가 어렵다\n",
    "# 1990년대 인터넷보급으로인한 정보량이증가\n",
    "# - 프로그램에대한 유지보수 요구사항이 증가\n",
    "# 객체지향 바람이 불기 시작\n",
    "# 현실세계를 그대로 반영한 객체지향 언어\n",
    "# 문제를 구성하는 요소들을 파악해서 그요 요소들간의 데이터 흐름을 프로그램적으로 표현(객체 모델링)\n",
    "# 은행 : 고객, 계좌, 지점, .....\n",
    "\n",
    "#계좌라는 개념을 프로그램으로 어떻게 표현할 것인가?\n",
    "# 계좌 : 상태(계좌주 이름, 현재 잔액), 행동(입금, 출금)\n",
    "# 추상화(abstraction)과정을 통해서 프로그램적으로 표현 > 객체 모델링 (class 객체모델링의 수단)\n",
    "# 표현 > 객체 모델링 > 객체 모델링 수단 > class"
   ]
  },
  {
   "cell_type": "code",
   "execution_count": 9,
   "metadata": {},
   "outputs": [
    {
     "data": {
      "text/plain": [
       "300"
      ]
     },
     "execution_count": 9,
     "metadata": {},
     "output_type": "execute_result"
    }
   ],
   "source": [
    "class Car: # 파스칼 스타일 첫문자도 대문자, 언더바로 속성구분함(C 스타일)\n",
    "    # field(속성, 상태, 변수)\n",
    "    car_current_speed = 0\n",
    "    car_remain_fuel = 0\n",
    "    \n",
    "    #method\n",
    "    #클래스 내부 메서드는 self를 인자로 넣어줗어야함\n",
    "    def insert_gas(self, gas_amount):\n",
    "        self.car_remain_fuel += gas_amount\n",
    "        \n",
    "    def __init__(self, f):\n",
    "        self.car_remain_fuel = f\n",
    "\n",
    "car1 = Car(100)\n",
    "car1.insert_gas(200)\n",
    "car1.car_current_speed\n",
    "car1.car_remain_fuel\n",
    "    "
   ]
  },
  {
   "cell_type": "code",
   "execution_count": null,
   "metadata": {},
   "outputs": [],
   "source": []
  },
  {
   "cell_type": "code",
   "execution_count": null,
   "metadata": {},
   "outputs": [],
   "source": []
  },
  {
   "cell_type": "code",
   "execution_count": null,
   "metadata": {},
   "outputs": [],
   "source": []
  }
 ],
 "metadata": {
  "kernelspec": {
   "display_name": "Python [default]",
   "language": "python",
   "name": "python3"
  },
  "language_info": {
   "codemirror_mode": {
    "name": "ipython",
    "version": 3
   },
   "file_extension": ".py",
   "mimetype": "text/x-python",
   "name": "python",
   "nbconvert_exporter": "python",
   "pygments_lexer": "ipython3",
   "version": "3.5.6"
  }
 },
 "nbformat": 4,
 "nbformat_minor": 2
}
